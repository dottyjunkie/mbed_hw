{
 "cells": [
  {
   "cell_type": "code",
   "execution_count": 99,
   "metadata": {},
   "outputs": [
    {
     "name": "stdout",
     "output_type": "stream",
     "text": [
      "<class 'list'>\n",
      "<class 'collections.OrderedDict'>\n",
      "10\n"
     ]
    }
   ],
   "source": [
    "# Part. 1\n",
    "#=======================================\n",
    "# Import module\n",
    "#  csv -- fileIO operation\n",
    "import csv\n",
    "#=======================================\n",
    "\n",
    "# Part. 2\n",
    "#=======================================\n",
    "# Read cwb weather data\n",
    "cwb_filename = '105022204.csv'\n",
    "data = []\n",
    "header = []\n",
    "with open(cwb_filename) as csvfile:\n",
    "    mycsv = csv.DictReader(csvfile)\n",
    "    header = mycsv.fieldnames\n",
    "    for row in mycsv:\n",
    "        data.append(row)\n",
    "#=======================================\n",
    "\n",
    "# Part. 3\n",
    "#=======================================\n",
    "# Analyze data depend on your group and store it to target_data like:\n",
    "# Retrive all data points which station id is \"C0X260\" as a list.\n",
    "# target_data = list(filter(lambda item: item['station_id'] == 'C0X260', data))\n",
    "\n",
    "# Retrive ten data points from the beginning.\n",
    "target_data = data[:10]\n",
    "\n",
    "#=======================================\n",
    "\n",
    "# Part. 4\n",
    "#=======================================\n",
    "# Print result\n",
    "#========================================\n",
    "print(type(target_data))\n",
    "print(type(target_data[0]))\n",
    "print(len(target_data))\n",
    "target_data[0:10]\n",
    "WSDS=[]\n",
    "index=[]\n",
    "\n",
    "\n",
    "\n",
    "        \n"
   ]
  },
  {
   "cell_type": "code",
   "execution_count": 76,
   "metadata": {},
   "outputs": [
    {
     "name": "stdout",
     "output_type": "stream",
     "text": [
      "9591\n",
      "9514\n"
     ]
    }
   ],
   "source": [
    "data_drop=[]\n",
    "count=0\n",
    "for i in range(len(data)):\n",
    "    WSDS.append(data[i]['WDSD'])\n",
    "    if(data[i]['WDSD']=='-99.000' or data[i]['WDSD']=='-999.000'):\n",
    "        count=count+1\n",
    "    else:\n",
    "        data_drop.append(data[i])\n",
    "#index\n",
    "\n",
    "print(len(data))\n",
    "print(len(data_drop))\n"
   ]
  },
  {
   "cell_type": "code",
   "execution_count": 100,
   "metadata": {},
   "outputs": [
    {
     "name": "stdout",
     "output_type": "stream",
     "text": [
      "1.6\n",
      "1.6\n",
      "4.2\n",
      "4.6\n",
      "5.3\n"
     ]
    },
    {
     "data": {
      "text/plain": [
       "[0.0,\n",
       " 0.0,\n",
       " 0.0,\n",
       " 0.0,\n",
       " 0.0,\n",
       " 0.0,\n",
       " 0.0,\n",
       " 0.0,\n",
       " 0.0,\n",
       " 0.0,\n",
       " 0.1,\n",
       " 0.1,\n",
       " 0.2,\n",
       " 0.3,\n",
       " 0.3,\n",
       " 0.3,\n",
       " 0.3,\n",
       " 0.3,\n",
       " 0.4,\n",
       " 0.7,\n",
       " 0.8,\n",
       " 0.9,\n",
       " 1.3,\n",
       " 1.6]"
      ]
     },
     "execution_count": 100,
     "metadata": {},
     "output_type": "execute_result"
    }
   ],
   "source": [
    "a=[]\n",
    "b=[]\n",
    "c=[]\n",
    "d=[]\n",
    "e=[]\n",
    "for i in range(len(data_drop)):\n",
    "    if (data_drop[i]['station_id']=='C0A880'):\n",
    "        a.append(float(data_drop[i]['WDSD']))\n",
    "    if data_drop[i]['station_id']=='C0F9A0': \n",
    "        b.append(float(data_drop[i]['WDSD']))\n",
    "    if data_drop[i]['station_id']=='C0G640':\n",
    "        c.append(float(data_drop[i]['WDSD']))\n",
    "    if data_drop[i]['station_id']=='C0R190':\n",
    "        d.append(float(data_drop[i]['WDSD']))\n",
    "    if data_drop[i]['station_id']=='C0X260':\n",
    "        e.append(float(data_drop[i]['WDSD']))\n",
    "        \n",
    "a.sort()\n",
    "b.sort()\n",
    "c.sort()\n",
    "d.sort()\n",
    "e.sort()\n",
    "print(a[-1]-a[0])\n",
    "print(b[-1]-b[0])\n",
    "print(c[-1]-c[0])\n",
    "print(d[-1]-d[0])\n",
    "print(e[-1]-e[0])\n",
    "a"
   ]
  },
  {
   "cell_type": "code",
   "execution_count": null,
   "metadata": {},
   "outputs": [],
   "source": []
  }
 ],
 "metadata": {
  "kernelspec": {
   "display_name": "Python 3",
   "language": "python",
   "name": "python3"
  },
  "language_info": {
   "codemirror_mode": {
    "name": "ipython",
    "version": 3
   },
   "file_extension": ".py",
   "mimetype": "text/x-python",
   "name": "python",
   "nbconvert_exporter": "python",
   "pygments_lexer": "ipython3",
   "version": "3.7.4"
  }
 },
 "nbformat": 4,
 "nbformat_minor": 2
}
