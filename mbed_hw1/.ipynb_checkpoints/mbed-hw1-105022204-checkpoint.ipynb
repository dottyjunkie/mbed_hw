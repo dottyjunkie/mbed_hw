{
 "cells": [
  {
   "cell_type": "code",
   "execution_count": 45,
   "metadata": {},
   "outputs": [
    {
     "name": "stdout",
     "output_type": "stream",
     "text": [
      "<class 'list'>\n",
      "<class 'collections.OrderedDict'>\n",
      "10\n"
     ]
    }
   ],
   "source": [
    "# Part. 1\n",
    "#=======================================\n",
    "# Import module\n",
    "#  csv -- fileIO operation\n",
    "import csv\n",
    "#=======================================\n",
    "\n",
    "# Part. 2\n",
    "#=======================================\n",
    "# Read cwb weather data\n",
    "cwb_filename = '105022204.csv'\n",
    "data = []\n",
    "header = []\n",
    "with open(cwb_filename) as csvfile:\n",
    "    mycsv = csv.DictReader(csvfile)\n",
    "    header = mycsv.fieldnames\n",
    "    for row in mycsv:\n",
    "        data.append(row)\n",
    "#=======================================\n",
    "\n",
    "# Part. 3\n",
    "#=======================================\n",
    "# Analyze data depend on your group and store it to target_data like:\n",
    "# Retrive all data points which station id is \"C0X260\" as a list.\n",
    "# target_data = list(filter(lambda item: item['station_id'] == 'C0X260', data))\n",
    "\n",
    "# Retrive ten data points from the beginning.\n",
    "target_data = data[:10]\n",
    "\n",
    "#=======================================\n",
    "\n",
    "# Part. 4\n",
    "#=======================================\n",
    "# Print result\n",
    "#========================================\n",
    "print(type(target_data))\n",
    "print(type(target_data[0]))\n",
    "print(len(target_data))\n",
    "target_data[0:10]\n",
    "WSDS=[]\n",
    "index=[]\n",
    "\n",
    "\n",
    "\n",
    "\n"
   ]
  },
  {
   "cell_type": "code",
   "execution_count": 51,
   "metadata": {},
   "outputs": [
    {
     "name": "stdout",
     "output_type": "stream",
     "text": [
      "C0A880\n",
      "1.6\n",
      "C0F9A0\n",
      "1.6\n",
      "C0G640\n",
      "4.2\n",
      "C0R190\n",
      "4.6\n",
      "C0X260\n",
      "5.3\n"
     ]
    }
   ],
   "source": [
    "#C0A880, C0F9A0, C0G640, C0R190, C0X260\n",
    "def show_me_answer(data,station):\n",
    "    ans=[]\n",
    "    target_data = list(filter(lambda item: item['station_id'] == station, data))\n",
    "    target_data = list(filter(lambda item: item['WDSD'] != '-99.000', target_data))\n",
    "    target_data = list(filter(lambda item: item['WDSD'] != '-999.000', target_data))\n",
    "    \n",
    "    for i in range(len(target_data)) :\n",
    "        ans.append(float(target_data[i]['WDSD']))\n",
    "#         print(float(target_data[i]['WDSD']))\n",
    "                   \n",
    "\n",
    "    if len(target_data)<=1:\n",
    "        print(station)\n",
    "        print(\"None\")\n",
    "        print(len(target_data))\n",
    "    else:\n",
    "        ans.sort()\n",
    "        print(station)\n",
    "        print(ans[-1]-ans[0])\n",
    "\n",
    "show_me_answer(data,'C0A880')\n",
    "show_me_answer(data,'C0F9A0')\n",
    "show_me_answer(data,'C0G640')\n",
    "show_me_answer(data,'C0R190')\n",
    "show_me_answer(data,'C0X260')"
   ]
  },
  {
   "cell_type": "code",
   "execution_count": null,
   "metadata": {},
   "outputs": [],
   "source": []
  },
  {
   "cell_type": "code",
   "execution_count": null,
   "metadata": {},
   "outputs": [],
   "source": []
  },
  {
   "cell_type": "code",
   "execution_count": null,
   "metadata": {},
   "outputs": [],
   "source": []
  }
 ],
 "metadata": {
  "kernelspec": {
   "display_name": "Python 3",
   "language": "python",
   "name": "python3"
  },
  "language_info": {
   "codemirror_mode": {
    "name": "ipython",
    "version": 3
   },
   "file_extension": ".py",
   "mimetype": "text/x-python",
   "name": "python",
   "nbconvert_exporter": "python",
   "pygments_lexer": "ipython3",
   "version": "3.7.4"
  }
 },
 "nbformat": 4,
 "nbformat_minor": 2
}
